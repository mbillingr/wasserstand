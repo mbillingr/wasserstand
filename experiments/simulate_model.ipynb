{
 "cells": [
  {
   "cell_type": "code",
   "execution_count": 1,
   "metadata": {},
   "outputs": [],
   "source": [
    "from datetime import datetime\n",
    "\n",
    "import matplotlib.pyplot as plt\n",
    "\n",
    "from wasserstand.config import DATAFILE_TEMPLATE\n",
    "from wasserstand.dataset import build_time_series, load_data_range\n",
    "from wasserstand.models.high_level_predictor import HighLevelPredictor\n",
    "from wasserstand.models.univariate import UnivariatePredictor\n",
    "from wasserstand.models.mean import MeanPredictor"
   ]
  },
  {
   "cell_type": "code",
   "execution_count": null,
   "metadata": {
    "pycharm": {
     "name": "#%%\n"
    }
   },
   "outputs": [],
   "source": [
    "training_data = build_time_series(\n",
    "    load_data_range(datetime(2021, 10, 30), datetime(2021, 11, 1), DATAFILE_TEMPLATE)\n",
    ")\n",
    "\n",
    "testing_data = build_time_series(\n",
    "    load_data_range(datetime(2021, 11, 1), datetime(2021, 11, 5), DATAFILE_TEMPLATE)\n",
    ")"
   ]
  },
  {
   "cell_type": "code",
   "execution_count": null,
   "metadata": {
    "pycharm": {
     "name": "#%%\n"
    }
   },
   "outputs": [],
   "source": [
    "plt.plot(training_data.time, training_data.sel(station=\"Innsbruck\"))\n",
    "plt.plot(testing_data.time, testing_data.sel(station=\"Innsbruck\"))"
   ]
  },
  {
   "cell_type": "code",
   "execution_count": null,
   "metadata": {
    "pycharm": {
     "name": "#%%\n"
    }
   },
   "outputs": [],
   "source": [
    "model = HighLevelPredictor(UnivariatePredictor(4, 1e-3, 1e-6))\n",
    "model.fit(training_data)"
   ]
  },
  {
   "cell_type": "code",
   "execution_count": null,
   "metadata": {
    "pycharm": {
     "name": "#%%\n"
    }
   },
   "outputs": [],
   "source": [
    "plt.plot(training_data.time, training_data.sel(station=\"Innsbruck\"))\n",
    "plt.plot(testing_data.time, testing_data.sel(station=\"Innsbruck\"))\n",
    "\n",
    "pred = model.predict_series(training_data)\n",
    "plt.plot(pred.time, pred.sel(station=\"Innsbruck\"))\n",
    "\n",
    "pred = model.predict_series(testing_data)\n",
    "plt.plot(pred.time, pred.sel(station=\"Innsbruck\"))"
   ]
  },
  {
   "cell_type": "code",
   "execution_count": null,
   "metadata": {
    "pycharm": {
     "name": "#%%\n"
    }
   },
   "outputs": [],
   "source": []
  }
 ],
 "metadata": {
  "kernelspec": {
   "display_name": "Python 3 (ipykernel)",
   "language": "python",
   "name": "python3"
  },
  "language_info": {
   "codemirror_mode": {
    "name": "ipython",
    "version": 3
   },
   "file_extension": ".py",
   "mimetype": "text/x-python",
   "name": "python",
   "nbconvert_exporter": "python",
   "pygments_lexer": "ipython3",
   "version": "3.9.7"
  }
 },
 "nbformat": 4,
 "nbformat_minor": 1
}
